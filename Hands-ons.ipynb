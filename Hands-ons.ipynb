{
 "cells": [
  {
   "cell_type": "markdown",
   "id": "63a0602a",
   "metadata": {},
   "source": [
    "# Recall By Judin"
   ]
  },
  {
   "cell_type": "markdown",
   "id": "df16634b",
   "metadata": {},
   "source": [
    "## Data preprocessing"
   ]
  },
  {
   "cell_type": "code",
   "execution_count": 1,
   "id": "26ad4037",
   "metadata": {},
   "outputs": [],
   "source": [
    "import os\n",
    "import pandas as pd\n",
    "import numpy as np"
   ]
  },
  {
   "cell_type": "code",
   "execution_count": 2,
   "id": "301a09fe",
   "metadata": {},
   "outputs": [
    {
     "data": {
      "text/html": [
       "<div>\n",
       "<style scoped>\n",
       "    .dataframe tbody tr th:only-of-type {\n",
       "        vertical-align: middle;\n",
       "    }\n",
       "\n",
       "    .dataframe tbody tr th {\n",
       "        vertical-align: top;\n",
       "    }\n",
       "\n",
       "    .dataframe thead th {\n",
       "        text-align: right;\n",
       "    }\n",
       "</style>\n",
       "<table border=\"1\" class=\"dataframe\">\n",
       "  <thead>\n",
       "    <tr style=\"text-align: right;\">\n",
       "      <th></th>\n",
       "      <th>datetime</th>\n",
       "      <th>city</th>\n",
       "      <th>state</th>\n",
       "      <th>country</th>\n",
       "      <th>shape</th>\n",
       "      <th>duration (seconds)</th>\n",
       "      <th>duration (hours/min)</th>\n",
       "      <th>comments</th>\n",
       "      <th>date posted</th>\n",
       "      <th>latitude</th>\n",
       "      <th>longitude</th>\n",
       "    </tr>\n",
       "  </thead>\n",
       "  <tbody>\n",
       "    <tr>\n",
       "      <th>0</th>\n",
       "      <td>10/10/1949 20:30</td>\n",
       "      <td>san marcos</td>\n",
       "      <td>tx</td>\n",
       "      <td>us</td>\n",
       "      <td>cylinder</td>\n",
       "      <td>2700</td>\n",
       "      <td>45 minutes</td>\n",
       "      <td>This event took place in early fall around 194...</td>\n",
       "      <td>4/27/2004</td>\n",
       "      <td>29.8830556</td>\n",
       "      <td>-97.941111</td>\n",
       "    </tr>\n",
       "    <tr>\n",
       "      <th>1</th>\n",
       "      <td>10/10/1949 21:00</td>\n",
       "      <td>lackland afb</td>\n",
       "      <td>tx</td>\n",
       "      <td>NaN</td>\n",
       "      <td>light</td>\n",
       "      <td>7200</td>\n",
       "      <td>1-2 hrs</td>\n",
       "      <td>1949 Lackland AFB&amp;#44 TX.  Lights racing acros...</td>\n",
       "      <td>12/16/2005</td>\n",
       "      <td>29.38421</td>\n",
       "      <td>-98.581082</td>\n",
       "    </tr>\n",
       "    <tr>\n",
       "      <th>2</th>\n",
       "      <td>10/10/1955 17:00</td>\n",
       "      <td>chester (uk/england)</td>\n",
       "      <td>NaN</td>\n",
       "      <td>gb</td>\n",
       "      <td>circle</td>\n",
       "      <td>20</td>\n",
       "      <td>20 seconds</td>\n",
       "      <td>Green/Orange circular disc over Chester&amp;#44 En...</td>\n",
       "      <td>1/21/2008</td>\n",
       "      <td>53.2</td>\n",
       "      <td>-2.916667</td>\n",
       "    </tr>\n",
       "    <tr>\n",
       "      <th>3</th>\n",
       "      <td>10/10/1956 21:00</td>\n",
       "      <td>edna</td>\n",
       "      <td>tx</td>\n",
       "      <td>us</td>\n",
       "      <td>circle</td>\n",
       "      <td>20</td>\n",
       "      <td>1/2 hour</td>\n",
       "      <td>My older brother and twin sister were leaving ...</td>\n",
       "      <td>1/17/2004</td>\n",
       "      <td>28.9783333</td>\n",
       "      <td>-96.645833</td>\n",
       "    </tr>\n",
       "    <tr>\n",
       "      <th>4</th>\n",
       "      <td>10/10/1960 20:00</td>\n",
       "      <td>kaneohe</td>\n",
       "      <td>hi</td>\n",
       "      <td>us</td>\n",
       "      <td>light</td>\n",
       "      <td>900</td>\n",
       "      <td>15 minutes</td>\n",
       "      <td>AS a Marine 1st Lt. flying an FJ4B fighter/att...</td>\n",
       "      <td>1/22/2004</td>\n",
       "      <td>21.4180556</td>\n",
       "      <td>-157.803611</td>\n",
       "    </tr>\n",
       "  </tbody>\n",
       "</table>\n",
       "</div>"
      ],
      "text/plain": [
       "           datetime                  city state country     shape  \\\n",
       "0  10/10/1949 20:30            san marcos    tx      us  cylinder   \n",
       "1  10/10/1949 21:00          lackland afb    tx     NaN     light   \n",
       "2  10/10/1955 17:00  chester (uk/england)   NaN      gb    circle   \n",
       "3  10/10/1956 21:00                  edna    tx      us    circle   \n",
       "4  10/10/1960 20:00               kaneohe    hi      us     light   \n",
       "\n",
       "  duration (seconds) duration (hours/min)  \\\n",
       "0               2700           45 minutes   \n",
       "1               7200              1-2 hrs   \n",
       "2                 20           20 seconds   \n",
       "3                 20             1/2 hour   \n",
       "4                900           15 minutes   \n",
       "\n",
       "                                            comments date posted    latitude  \\\n",
       "0  This event took place in early fall around 194...   4/27/2004  29.8830556   \n",
       "1  1949 Lackland AFB&#44 TX.  Lights racing acros...  12/16/2005    29.38421   \n",
       "2  Green/Orange circular disc over Chester&#44 En...   1/21/2008        53.2   \n",
       "3  My older brother and twin sister were leaving ...   1/17/2004  28.9783333   \n",
       "4  AS a Marine 1st Lt. flying an FJ4B fighter/att...   1/22/2004  21.4180556   \n",
       "\n",
       "   longitude   \n",
       "0  -97.941111  \n",
       "1  -98.581082  \n",
       "2   -2.916667  \n",
       "3  -96.645833  \n",
       "4 -157.803611  "
      ]
     },
     "execution_count": 2,
     "metadata": {},
     "output_type": "execute_result"
    }
   ],
   "source": [
    "data = pd.read_csv(\"scrubbed.csv\", low_memory=False)\n",
    "data.head()"
   ]
  },
  {
   "cell_type": "markdown",
   "id": "b992e48d",
   "metadata": {},
   "source": [
    "## Cleaning the data"
   ]
  },
  {
   "cell_type": "code",
   "execution_count": 4,
   "id": "b86559fe",
   "metadata": {},
   "outputs": [],
   "source": [
    "data = data.rename({'duration (seconds)': 'duration_seconds', 'duration (hours/min)': 'duration_hours_min', 'date posted': 'date_posted'}, axis=1)"
   ]
  },
  {
   "cell_type": "code",
   "execution_count": 5,
   "id": "54e68d20",
   "metadata": {},
   "outputs": [
    {
     "data": {
      "text/plain": [
       "datetime               object\n",
       "city                   object\n",
       "state                  object\n",
       "country                object\n",
       "shape                  object\n",
       "duration_seconds       object\n",
       "duration_hours_min     object\n",
       "comments               object\n",
       "date_posted            object\n",
       "latitude               object\n",
       "longitude             float64\n",
       "dtype: object"
      ]
     },
     "execution_count": 5,
     "metadata": {},
     "output_type": "execute_result"
    }
   ],
   "source": [
    "data.dtypes"
   ]
  },
  {
   "cell_type": "code",
   "execution_count": 6,
   "id": "404daae2",
   "metadata": {},
   "outputs": [
    {
     "data": {
      "text/plain": [
       "(80332, 11)"
      ]
     },
     "execution_count": 6,
     "metadata": {},
     "output_type": "execute_result"
    }
   ],
   "source": [
    "data.shape"
   ]
  },
  {
   "cell_type": "code",
   "execution_count": 7,
   "id": "f3581a09",
   "metadata": {},
   "outputs": [],
   "source": [
    "data.datetime = data.datetime.str.replace('24:', '00:')"
   ]
  },
  {
   "cell_type": "code",
   "execution_count": 8,
   "id": "41e547bb",
   "metadata": {},
   "outputs": [],
   "source": [
    "data.datetime = data.datetime.astype('datetime64')"
   ]
  },
  {
   "cell_type": "code",
   "execution_count": 9,
   "id": "31e8f619",
   "metadata": {},
   "outputs": [
    {
     "name": "stderr",
     "output_type": "stream",
     "text": [
      "C:\\Users\\Lenovo\\AppData\\Local\\Temp/ipykernel_5828/1235157003.py:2: UserWarning: This pattern has match groups. To actually get the groups, use str.extract.\n",
      "  duration_without_na[~duration_without_na.str.contains('^\\d+(\\.\\d+)?$', na=False)].value_counts()\n"
     ]
    },
    {
     "data": {
      "text/plain": [
       "2`           1\n",
       "8`           1\n",
       "2631600      1\n",
       "0.5`         1\n",
       "Name: duration_seconds, dtype: int64"
      ]
     },
     "execution_count": 9,
     "metadata": {},
     "output_type": "execute_result"
    }
   ],
   "source": [
    "duration_without_na = data.duration_seconds.dropna()\n",
    "duration_without_na[~duration_without_na.str.contains('^\\d+(\\.\\d+)?$', na=False)].value_counts()"
   ]
  },
  {
   "cell_type": "code",
   "execution_count": 10,
   "id": "5d4ee15a",
   "metadata": {},
   "outputs": [],
   "source": [
    "data.duration_seconds = data.duration_seconds.str.replace('`', '').astype('float64')"
   ]
  },
  {
   "cell_type": "code",
   "execution_count": 11,
   "id": "630e4ff4",
   "metadata": {},
   "outputs": [],
   "source": [
    "data.date_posted = data.date_posted.astype('datetime64')"
   ]
  },
  {
   "cell_type": "code",
   "execution_count": 12,
   "id": "1c8eb943",
   "metadata": {},
   "outputs": [
    {
     "data": {
      "text/plain": [
       "0       2004-04-27\n",
       "1       2005-12-16\n",
       "2       2008-01-21\n",
       "3       2004-01-17\n",
       "4       2004-01-22\n",
       "           ...    \n",
       "80327   2013-09-30\n",
       "80328   2013-09-30\n",
       "80329   2013-09-30\n",
       "80330   2013-09-30\n",
       "80331   2013-09-30\n",
       "Name: date_posted, Length: 80332, dtype: datetime64[ns]"
      ]
     },
     "execution_count": 12,
     "metadata": {},
     "output_type": "execute_result"
    }
   ],
   "source": [
    "data.date_posted"
   ]
  },
  {
   "cell_type": "code",
   "execution_count": 13,
   "id": "80d4e5d7",
   "metadata": {},
   "outputs": [
    {
     "name": "stderr",
     "output_type": "stream",
     "text": [
      "C:\\Users\\Lenovo\\AppData\\Local\\Temp/ipykernel_5828/966619224.py:1: UserWarning: This pattern has match groups. To actually get the groups, use str.extract.\n",
      "  data.latitude[~data.latitude.str.contains('^-?\\d+(\\.\\d+)?$')]\n"
     ]
    },
    {
     "data": {
      "text/plain": [
       "43782    33q.200088\n",
       "Name: latitude, dtype: object"
      ]
     },
     "execution_count": 13,
     "metadata": {},
     "output_type": "execute_result"
    }
   ],
   "source": [
    "data.latitude[~data.latitude.str.contains('^-?\\d+(\\.\\d+)?$')]"
   ]
  },
  {
   "cell_type": "code",
   "execution_count": 14,
   "id": "62b8dcd9",
   "metadata": {},
   "outputs": [],
   "source": [
    "data = data.drop(index=43782)"
   ]
  },
  {
   "cell_type": "code",
   "execution_count": 15,
   "id": "1ea1546f",
   "metadata": {},
   "outputs": [],
   "source": [
    "data.latitude = data.latitude.astype('float64')"
   ]
  },
  {
   "cell_type": "code",
   "execution_count": 16,
   "id": "2f837052",
   "metadata": {},
   "outputs": [
    {
     "data": {
      "text/plain": [
       "datetime              datetime64[ns]\n",
       "city                          object\n",
       "state                         object\n",
       "country                       object\n",
       "shape                         object\n",
       "duration_seconds             float64\n",
       "duration_hours_min            object\n",
       "comments                      object\n",
       "date_posted           datetime64[ns]\n",
       "latitude                     float64\n",
       "longitude                    float64\n",
       "dtype: object"
      ]
     },
     "execution_count": 16,
     "metadata": {},
     "output_type": "execute_result"
    }
   ],
   "source": [
    "data.dtypes"
   ]
  },
  {
   "cell_type": "code",
   "execution_count": 17,
   "id": "e642e0ea",
   "metadata": {},
   "outputs": [
    {
     "data": {
      "text/plain": [
       "datetime              False\n",
       "city                  False\n",
       "state                  True\n",
       "country                True\n",
       "shape                  True\n",
       "duration_seconds      False\n",
       "duration_hours_min    False\n",
       "comments               True\n",
       "date_posted           False\n",
       "latitude              False\n",
       "longitude             False\n",
       "dtype: bool"
      ]
     },
     "execution_count": 17,
     "metadata": {},
     "output_type": "execute_result"
    }
   ],
   "source": [
    "data.isna().any()"
   ]
  },
  {
   "cell_type": "markdown",
   "id": "04969359",
   "metadata": {},
   "source": [
    "## Start here...."
   ]
  },
  {
   "cell_type": "markdown",
   "id": "8b84a2af",
   "metadata": {},
   "source": [
    "Visualize the first 6 rows of the dataset."
   ]
  },
  {
   "cell_type": "code",
   "execution_count": 18,
   "id": "0b457d12",
   "metadata": {},
   "outputs": [
    {
     "data": {
      "text/html": [
       "<div>\n",
       "<style scoped>\n",
       "    .dataframe tbody tr th:only-of-type {\n",
       "        vertical-align: middle;\n",
       "    }\n",
       "\n",
       "    .dataframe tbody tr th {\n",
       "        vertical-align: top;\n",
       "    }\n",
       "\n",
       "    .dataframe thead th {\n",
       "        text-align: right;\n",
       "    }\n",
       "</style>\n",
       "<table border=\"1\" class=\"dataframe\">\n",
       "  <thead>\n",
       "    <tr style=\"text-align: right;\">\n",
       "      <th></th>\n",
       "      <th>datetime</th>\n",
       "      <th>city</th>\n",
       "      <th>state</th>\n",
       "      <th>country</th>\n",
       "      <th>shape</th>\n",
       "      <th>duration_seconds</th>\n",
       "      <th>duration_hours_min</th>\n",
       "      <th>comments</th>\n",
       "      <th>date_posted</th>\n",
       "      <th>latitude</th>\n",
       "      <th>longitude</th>\n",
       "    </tr>\n",
       "  </thead>\n",
       "  <tbody>\n",
       "    <tr>\n",
       "      <th>0</th>\n",
       "      <td>1949-10-10 20:30:00</td>\n",
       "      <td>san marcos</td>\n",
       "      <td>tx</td>\n",
       "      <td>us</td>\n",
       "      <td>cylinder</td>\n",
       "      <td>2700.0</td>\n",
       "      <td>45 minutes</td>\n",
       "      <td>This event took place in early fall around 194...</td>\n",
       "      <td>2004-04-27</td>\n",
       "      <td>29.883056</td>\n",
       "      <td>-97.941111</td>\n",
       "    </tr>\n",
       "    <tr>\n",
       "      <th>1</th>\n",
       "      <td>1949-10-10 21:00:00</td>\n",
       "      <td>lackland afb</td>\n",
       "      <td>tx</td>\n",
       "      <td>NaN</td>\n",
       "      <td>light</td>\n",
       "      <td>7200.0</td>\n",
       "      <td>1-2 hrs</td>\n",
       "      <td>1949 Lackland AFB&amp;#44 TX.  Lights racing acros...</td>\n",
       "      <td>2005-12-16</td>\n",
       "      <td>29.384210</td>\n",
       "      <td>-98.581082</td>\n",
       "    </tr>\n",
       "    <tr>\n",
       "      <th>2</th>\n",
       "      <td>1955-10-10 17:00:00</td>\n",
       "      <td>chester (uk/england)</td>\n",
       "      <td>NaN</td>\n",
       "      <td>gb</td>\n",
       "      <td>circle</td>\n",
       "      <td>20.0</td>\n",
       "      <td>20 seconds</td>\n",
       "      <td>Green/Orange circular disc over Chester&amp;#44 En...</td>\n",
       "      <td>2008-01-21</td>\n",
       "      <td>53.200000</td>\n",
       "      <td>-2.916667</td>\n",
       "    </tr>\n",
       "    <tr>\n",
       "      <th>3</th>\n",
       "      <td>1956-10-10 21:00:00</td>\n",
       "      <td>edna</td>\n",
       "      <td>tx</td>\n",
       "      <td>us</td>\n",
       "      <td>circle</td>\n",
       "      <td>20.0</td>\n",
       "      <td>1/2 hour</td>\n",
       "      <td>My older brother and twin sister were leaving ...</td>\n",
       "      <td>2004-01-17</td>\n",
       "      <td>28.978333</td>\n",
       "      <td>-96.645833</td>\n",
       "    </tr>\n",
       "    <tr>\n",
       "      <th>4</th>\n",
       "      <td>1960-10-10 20:00:00</td>\n",
       "      <td>kaneohe</td>\n",
       "      <td>hi</td>\n",
       "      <td>us</td>\n",
       "      <td>light</td>\n",
       "      <td>900.0</td>\n",
       "      <td>15 minutes</td>\n",
       "      <td>AS a Marine 1st Lt. flying an FJ4B fighter/att...</td>\n",
       "      <td>2004-01-22</td>\n",
       "      <td>21.418056</td>\n",
       "      <td>-157.803611</td>\n",
       "    </tr>\n",
       "    <tr>\n",
       "      <th>5</th>\n",
       "      <td>1961-10-10 19:00:00</td>\n",
       "      <td>bristol</td>\n",
       "      <td>tn</td>\n",
       "      <td>us</td>\n",
       "      <td>sphere</td>\n",
       "      <td>300.0</td>\n",
       "      <td>5 minutes</td>\n",
       "      <td>My father is now 89 my brother 52 the girl wit...</td>\n",
       "      <td>2007-04-27</td>\n",
       "      <td>36.595000</td>\n",
       "      <td>-82.188889</td>\n",
       "    </tr>\n",
       "  </tbody>\n",
       "</table>\n",
       "</div>"
      ],
      "text/plain": [
       "             datetime                  city state country     shape  \\\n",
       "0 1949-10-10 20:30:00            san marcos    tx      us  cylinder   \n",
       "1 1949-10-10 21:00:00          lackland afb    tx     NaN     light   \n",
       "2 1955-10-10 17:00:00  chester (uk/england)   NaN      gb    circle   \n",
       "3 1956-10-10 21:00:00                  edna    tx      us    circle   \n",
       "4 1960-10-10 20:00:00               kaneohe    hi      us     light   \n",
       "5 1961-10-10 19:00:00               bristol    tn      us    sphere   \n",
       "\n",
       "   duration_seconds duration_hours_min  \\\n",
       "0            2700.0         45 minutes   \n",
       "1            7200.0            1-2 hrs   \n",
       "2              20.0         20 seconds   \n",
       "3              20.0           1/2 hour   \n",
       "4             900.0         15 minutes   \n",
       "5             300.0          5 minutes   \n",
       "\n",
       "                                            comments date_posted   latitude  \\\n",
       "0  This event took place in early fall around 194...  2004-04-27  29.883056   \n",
       "1  1949 Lackland AFB&#44 TX.  Lights racing acros...  2005-12-16  29.384210   \n",
       "2  Green/Orange circular disc over Chester&#44 En...  2008-01-21  53.200000   \n",
       "3  My older brother and twin sister were leaving ...  2004-01-17  28.978333   \n",
       "4  AS a Marine 1st Lt. flying an FJ4B fighter/att...  2004-01-22  21.418056   \n",
       "5  My father is now 89 my brother 52 the girl wit...  2007-04-27  36.595000   \n",
       "\n",
       "   longitude   \n",
       "0  -97.941111  \n",
       "1  -98.581082  \n",
       "2   -2.916667  \n",
       "3  -96.645833  \n",
       "4 -157.803611  \n",
       "5  -82.188889  "
      ]
     },
     "execution_count": 18,
     "metadata": {},
     "output_type": "execute_result"
    }
   ],
   "source": [
    "# add your code below to get the first 6 rows of the dataset\n",
    "data.head(6)"
   ]
  },
  {
   "cell_type": "code",
   "execution_count": 19,
   "id": "8b86a576",
   "metadata": {},
   "outputs": [
    {
     "data": {
      "text/plain": [
       "<bound method DataFrame.info of                  datetime                  city state country     shape  \\\n",
       "0     1949-10-10 20:30:00            san marcos    tx      us  cylinder   \n",
       "1     1949-10-10 21:00:00          lackland afb    tx     NaN     light   \n",
       "2     1955-10-10 17:00:00  chester (uk/england)   NaN      gb    circle   \n",
       "3     1956-10-10 21:00:00                  edna    tx      us    circle   \n",
       "4     1960-10-10 20:00:00               kaneohe    hi      us     light   \n",
       "...                   ...                   ...   ...     ...       ...   \n",
       "80327 2013-09-09 21:15:00             nashville    tn      us     light   \n",
       "80328 2013-09-09 22:00:00                 boise    id      us    circle   \n",
       "80329 2013-09-09 22:00:00                  napa    ca      us     other   \n",
       "80330 2013-09-09 22:20:00                vienna    va      us    circle   \n",
       "80331 2013-09-09 23:00:00                edmond    ok      us     cigar   \n",
       "\n",
       "       duration_seconds duration_hours_min  \\\n",
       "0                2700.0         45 minutes   \n",
       "1                7200.0            1-2 hrs   \n",
       "2                  20.0         20 seconds   \n",
       "3                  20.0           1/2 hour   \n",
       "4                 900.0         15 minutes   \n",
       "...                 ...                ...   \n",
       "80327             600.0         10 minutes   \n",
       "80328            1200.0         20 minutes   \n",
       "80329            1200.0               hour   \n",
       "80330               5.0          5 seconds   \n",
       "80331            1020.0         17 minutes   \n",
       "\n",
       "                                                comments date_posted  \\\n",
       "0      This event took place in early fall around 194...  2004-04-27   \n",
       "1      1949 Lackland AFB&#44 TX.  Lights racing acros...  2005-12-16   \n",
       "2      Green/Orange circular disc over Chester&#44 En...  2008-01-21   \n",
       "3      My older brother and twin sister were leaving ...  2004-01-17   \n",
       "4      AS a Marine 1st Lt. flying an FJ4B fighter/att...  2004-01-22   \n",
       "...                                                  ...         ...   \n",
       "80327  Round from the distance/slowly changing colors...  2013-09-30   \n",
       "80328  Boise&#44 ID&#44 spherical&#44 20 min&#44 10 r...  2013-09-30   \n",
       "80329                                       Napa UFO&#44  2013-09-30   \n",
       "80330  Saw a five gold lit cicular craft moving fastl...  2013-09-30   \n",
       "80331  2 witnesses 2  miles apart&#44 Red &amp; White...  2013-09-30   \n",
       "\n",
       "        latitude  longitude   \n",
       "0      29.883056  -97.941111  \n",
       "1      29.384210  -98.581082  \n",
       "2      53.200000   -2.916667  \n",
       "3      28.978333  -96.645833  \n",
       "4      21.418056 -157.803611  \n",
       "...          ...         ...  \n",
       "80327  36.165833  -86.784444  \n",
       "80328  43.613611 -116.202500  \n",
       "80329  38.297222 -122.284444  \n",
       "80330  38.901111  -77.265556  \n",
       "80331  35.652778  -97.477778  \n",
       "\n",
       "[80331 rows x 11 columns]>"
      ]
     },
     "execution_count": 19,
     "metadata": {},
     "output_type": "execute_result"
    }
   ],
   "source": [
    "#Get some general information about the dataset.\n",
    "data.info"
   ]
  },
  {
   "cell_type": "markdown",
   "id": "a112800d",
   "metadata": {},
   "source": [
    "It seems like the column duration_hours_min is not that useful and you would like to drop the column."
   ]
  },
  {
   "cell_type": "code",
   "execution_count": 20,
   "id": "7fda0617",
   "metadata": {},
   "outputs": [
    {
     "data": {
      "text/html": [
       "<div>\n",
       "<style scoped>\n",
       "    .dataframe tbody tr th:only-of-type {\n",
       "        vertical-align: middle;\n",
       "    }\n",
       "\n",
       "    .dataframe tbody tr th {\n",
       "        vertical-align: top;\n",
       "    }\n",
       "\n",
       "    .dataframe thead th {\n",
       "        text-align: right;\n",
       "    }\n",
       "</style>\n",
       "<table border=\"1\" class=\"dataframe\">\n",
       "  <thead>\n",
       "    <tr style=\"text-align: right;\">\n",
       "      <th></th>\n",
       "      <th>datetime</th>\n",
       "      <th>city</th>\n",
       "      <th>state</th>\n",
       "      <th>country</th>\n",
       "      <th>shape</th>\n",
       "      <th>duration_seconds</th>\n",
       "      <th>comments</th>\n",
       "      <th>date_posted</th>\n",
       "      <th>latitude</th>\n",
       "      <th>longitude</th>\n",
       "    </tr>\n",
       "  </thead>\n",
       "  <tbody>\n",
       "    <tr>\n",
       "      <th>0</th>\n",
       "      <td>1949-10-10 20:30:00</td>\n",
       "      <td>san marcos</td>\n",
       "      <td>tx</td>\n",
       "      <td>us</td>\n",
       "      <td>cylinder</td>\n",
       "      <td>2700.0</td>\n",
       "      <td>This event took place in early fall around 194...</td>\n",
       "      <td>2004-04-27</td>\n",
       "      <td>29.883056</td>\n",
       "      <td>-97.941111</td>\n",
       "    </tr>\n",
       "    <tr>\n",
       "      <th>1</th>\n",
       "      <td>1949-10-10 21:00:00</td>\n",
       "      <td>lackland afb</td>\n",
       "      <td>tx</td>\n",
       "      <td>NaN</td>\n",
       "      <td>light</td>\n",
       "      <td>7200.0</td>\n",
       "      <td>1949 Lackland AFB&amp;#44 TX.  Lights racing acros...</td>\n",
       "      <td>2005-12-16</td>\n",
       "      <td>29.384210</td>\n",
       "      <td>-98.581082</td>\n",
       "    </tr>\n",
       "    <tr>\n",
       "      <th>2</th>\n",
       "      <td>1955-10-10 17:00:00</td>\n",
       "      <td>chester (uk/england)</td>\n",
       "      <td>NaN</td>\n",
       "      <td>gb</td>\n",
       "      <td>circle</td>\n",
       "      <td>20.0</td>\n",
       "      <td>Green/Orange circular disc over Chester&amp;#44 En...</td>\n",
       "      <td>2008-01-21</td>\n",
       "      <td>53.200000</td>\n",
       "      <td>-2.916667</td>\n",
       "    </tr>\n",
       "    <tr>\n",
       "      <th>3</th>\n",
       "      <td>1956-10-10 21:00:00</td>\n",
       "      <td>edna</td>\n",
       "      <td>tx</td>\n",
       "      <td>us</td>\n",
       "      <td>circle</td>\n",
       "      <td>20.0</td>\n",
       "      <td>My older brother and twin sister were leaving ...</td>\n",
       "      <td>2004-01-17</td>\n",
       "      <td>28.978333</td>\n",
       "      <td>-96.645833</td>\n",
       "    </tr>\n",
       "    <tr>\n",
       "      <th>4</th>\n",
       "      <td>1960-10-10 20:00:00</td>\n",
       "      <td>kaneohe</td>\n",
       "      <td>hi</td>\n",
       "      <td>us</td>\n",
       "      <td>light</td>\n",
       "      <td>900.0</td>\n",
       "      <td>AS a Marine 1st Lt. flying an FJ4B fighter/att...</td>\n",
       "      <td>2004-01-22</td>\n",
       "      <td>21.418056</td>\n",
       "      <td>-157.803611</td>\n",
       "    </tr>\n",
       "  </tbody>\n",
       "</table>\n",
       "</div>"
      ],
      "text/plain": [
       "             datetime                  city state country     shape  \\\n",
       "0 1949-10-10 20:30:00            san marcos    tx      us  cylinder   \n",
       "1 1949-10-10 21:00:00          lackland afb    tx     NaN     light   \n",
       "2 1955-10-10 17:00:00  chester (uk/england)   NaN      gb    circle   \n",
       "3 1956-10-10 21:00:00                  edna    tx      us    circle   \n",
       "4 1960-10-10 20:00:00               kaneohe    hi      us     light   \n",
       "\n",
       "   duration_seconds                                           comments  \\\n",
       "0            2700.0  This event took place in early fall around 194...   \n",
       "1            7200.0  1949 Lackland AFB&#44 TX.  Lights racing acros...   \n",
       "2              20.0  Green/Orange circular disc over Chester&#44 En...   \n",
       "3              20.0  My older brother and twin sister were leaving ...   \n",
       "4             900.0  AS a Marine 1st Lt. flying an FJ4B fighter/att...   \n",
       "\n",
       "  date_posted   latitude  longitude   \n",
       "0  2004-04-27  29.883056  -97.941111  \n",
       "1  2005-12-16  29.384210  -98.581082  \n",
       "2  2008-01-21  53.200000   -2.916667  \n",
       "3  2004-01-17  28.978333  -96.645833  \n",
       "4  2004-01-22  21.418056 -157.803611  "
      ]
     },
     "execution_count": 20,
     "metadata": {},
     "output_type": "execute_result"
    }
   ],
   "source": [
    "# add your code here in the line below\n",
    "data.drop(\"duration_hours_min\", axis=1, inplace=True)\n",
    "# show the state of the current data\n",
    "data.head()"
   ]
  },
  {
   "cell_type": "code",
   "execution_count": 21,
   "id": "8aaae7ff",
   "metadata": {},
   "outputs": [
    {
     "data": {
      "text/html": [
       "<div>\n",
       "<style scoped>\n",
       "    .dataframe tbody tr th:only-of-type {\n",
       "        vertical-align: middle;\n",
       "    }\n",
       "\n",
       "    .dataframe tbody tr th {\n",
       "        vertical-align: top;\n",
       "    }\n",
       "\n",
       "    .dataframe thead th {\n",
       "        text-align: right;\n",
       "    }\n",
       "</style>\n",
       "<table border=\"1\" class=\"dataframe\">\n",
       "  <thead>\n",
       "    <tr style=\"text-align: right;\">\n",
       "      <th></th>\n",
       "      <th>datetime</th>\n",
       "      <th>city</th>\n",
       "      <th>state</th>\n",
       "      <th>country</th>\n",
       "      <th>shape</th>\n",
       "      <th>duration_seconds</th>\n",
       "      <th>comments</th>\n",
       "      <th>date_posted</th>\n",
       "      <th>latitude</th>\n",
       "      <th>longitude</th>\n",
       "    </tr>\n",
       "  </thead>\n",
       "  <tbody>\n",
       "    <tr>\n",
       "      <th>0</th>\n",
       "      <td>1949-10-10 20:30:00</td>\n",
       "      <td>san marcos</td>\n",
       "      <td>tx</td>\n",
       "      <td>us</td>\n",
       "      <td>cylinder</td>\n",
       "      <td>2700.0</td>\n",
       "      <td>This event took place in early fall around 194...</td>\n",
       "      <td>2004-04-27</td>\n",
       "      <td>29.883056</td>\n",
       "      <td>-97.941111</td>\n",
       "    </tr>\n",
       "    <tr>\n",
       "      <th>1</th>\n",
       "      <td>1949-10-10 21:00:00</td>\n",
       "      <td>lackland afb</td>\n",
       "      <td>tx</td>\n",
       "      <td>NaN</td>\n",
       "      <td>light</td>\n",
       "      <td>7200.0</td>\n",
       "      <td>1949 Lackland AFB&amp;#44 TX.  Lights racing acros...</td>\n",
       "      <td>2005-12-16</td>\n",
       "      <td>29.384210</td>\n",
       "      <td>-98.581082</td>\n",
       "    </tr>\n",
       "    <tr>\n",
       "      <th>2</th>\n",
       "      <td>1955-10-10 17:00:00</td>\n",
       "      <td>chester (uk/england)</td>\n",
       "      <td>NaN</td>\n",
       "      <td>gb</td>\n",
       "      <td>circle</td>\n",
       "      <td>20.0</td>\n",
       "      <td>Green/Orange circular disc over Chester&amp;#44 En...</td>\n",
       "      <td>2008-01-21</td>\n",
       "      <td>53.200000</td>\n",
       "      <td>-2.916667</td>\n",
       "    </tr>\n",
       "    <tr>\n",
       "      <th>3</th>\n",
       "      <td>1956-10-10 21:00:00</td>\n",
       "      <td>edna</td>\n",
       "      <td>tx</td>\n",
       "      <td>us</td>\n",
       "      <td>circle</td>\n",
       "      <td>20.0</td>\n",
       "      <td>My older brother and twin sister were leaving ...</td>\n",
       "      <td>2004-01-17</td>\n",
       "      <td>28.978333</td>\n",
       "      <td>-96.645833</td>\n",
       "    </tr>\n",
       "    <tr>\n",
       "      <th>4</th>\n",
       "      <td>1960-10-10 20:00:00</td>\n",
       "      <td>kaneohe</td>\n",
       "      <td>hi</td>\n",
       "      <td>us</td>\n",
       "      <td>light</td>\n",
       "      <td>900.0</td>\n",
       "      <td>AS a Marine 1st Lt. flying an FJ4B fighter/att...</td>\n",
       "      <td>2004-01-22</td>\n",
       "      <td>21.418056</td>\n",
       "      <td>-157.803611</td>\n",
       "    </tr>\n",
       "  </tbody>\n",
       "</table>\n",
       "</div>"
      ],
      "text/plain": [
       "             datetime                  city state country     shape  \\\n",
       "0 1949-10-10 20:30:00            san marcos    tx      us  cylinder   \n",
       "1 1949-10-10 21:00:00          lackland afb    tx     NaN     light   \n",
       "2 1955-10-10 17:00:00  chester (uk/england)   NaN      gb    circle   \n",
       "3 1956-10-10 21:00:00                  edna    tx      us    circle   \n",
       "4 1960-10-10 20:00:00               kaneohe    hi      us     light   \n",
       "\n",
       "   duration_seconds                                           comments  \\\n",
       "0            2700.0  This event took place in early fall around 194...   \n",
       "1            7200.0  1949 Lackland AFB&#44 TX.  Lights racing acros...   \n",
       "2              20.0  Green/Orange circular disc over Chester&#44 En...   \n",
       "3              20.0  My older brother and twin sister were leaving ...   \n",
       "4             900.0  AS a Marine 1st Lt. flying an FJ4B fighter/att...   \n",
       "\n",
       "  date_posted   latitude  longitude   \n",
       "0  2004-04-27  29.883056  -97.941111  \n",
       "1  2005-12-16  29.384210  -98.581082  \n",
       "2  2008-01-21  53.200000   -2.916667  \n",
       "3  2004-01-17  28.978333  -96.645833  \n",
       "4  2004-01-22  21.418056 -157.803611  "
      ]
     },
     "execution_count": 21,
     "metadata": {},
     "output_type": "execute_result"
    }
   ],
   "source": [
    "data.head()"
   ]
  },
  {
   "cell_type": "markdown",
   "id": "9b17ad7f",
   "metadata": {},
   "source": [
    "Get the summary for the data."
   ]
  },
  {
   "cell_type": "code",
   "execution_count": 22,
   "id": "b8d58cc4",
   "metadata": {},
   "outputs": [
    {
     "data": {
      "text/html": [
       "<div>\n",
       "<style scoped>\n",
       "    .dataframe tbody tr th:only-of-type {\n",
       "        vertical-align: middle;\n",
       "    }\n",
       "\n",
       "    .dataframe tbody tr th {\n",
       "        vertical-align: top;\n",
       "    }\n",
       "\n",
       "    .dataframe thead th {\n",
       "        text-align: right;\n",
       "    }\n",
       "</style>\n",
       "<table border=\"1\" class=\"dataframe\">\n",
       "  <thead>\n",
       "    <tr style=\"text-align: right;\">\n",
       "      <th></th>\n",
       "      <th>datetime</th>\n",
       "      <th>duration_seconds</th>\n",
       "      <th>date_posted</th>\n",
       "      <th>latitude</th>\n",
       "      <th>longitude</th>\n",
       "    </tr>\n",
       "  </thead>\n",
       "  <tbody>\n",
       "    <tr>\n",
       "      <th>count</th>\n",
       "      <td>80331</td>\n",
       "      <td>8.033100e+04</td>\n",
       "      <td>80331</td>\n",
       "      <td>80331.000000</td>\n",
       "      <td>80331.000000</td>\n",
       "    </tr>\n",
       "    <tr>\n",
       "      <th>mean</th>\n",
       "      <td>2004-05-17 07:11:29.266161024</td>\n",
       "      <td>9.016999e+03</td>\n",
       "      <td>2007-07-28 01:44:20.776038912</td>\n",
       "      <td>38.124477</td>\n",
       "      <td>-86.772650</td>\n",
       "    </tr>\n",
       "    <tr>\n",
       "      <th>min</th>\n",
       "      <td>1906-11-11 00:00:00</td>\n",
       "      <td>1.000000e-03</td>\n",
       "      <td>1998-03-07 00:00:00</td>\n",
       "      <td>-82.862752</td>\n",
       "      <td>-176.658056</td>\n",
       "    </tr>\n",
       "    <tr>\n",
       "      <th>25%</th>\n",
       "      <td>2001-08-02 22:20:00</td>\n",
       "      <td>3.000000e+01</td>\n",
       "      <td>2003-11-26 00:00:00</td>\n",
       "      <td>34.134722</td>\n",
       "      <td>-112.073333</td>\n",
       "    </tr>\n",
       "    <tr>\n",
       "      <th>50%</th>\n",
       "      <td>2006-11-22 05:10:00</td>\n",
       "      <td>1.800000e+02</td>\n",
       "      <td>2007-11-28 00:00:00</td>\n",
       "      <td>39.411111</td>\n",
       "      <td>-87.903611</td>\n",
       "    </tr>\n",
       "    <tr>\n",
       "      <th>75%</th>\n",
       "      <td>2011-06-21 01:00:00</td>\n",
       "      <td>6.000000e+02</td>\n",
       "      <td>2011-10-10 00:00:00</td>\n",
       "      <td>42.788333</td>\n",
       "      <td>-78.755000</td>\n",
       "    </tr>\n",
       "    <tr>\n",
       "      <th>max</th>\n",
       "      <td>2014-05-08 18:45:00</td>\n",
       "      <td>9.783600e+07</td>\n",
       "      <td>2014-05-08 00:00:00</td>\n",
       "      <td>72.700000</td>\n",
       "      <td>178.441900</td>\n",
       "    </tr>\n",
       "    <tr>\n",
       "      <th>std</th>\n",
       "      <td>NaN</td>\n",
       "      <td>6.202206e+05</td>\n",
       "      <td>NaN</td>\n",
       "      <td>10.469636</td>\n",
       "      <td>39.697396</td>\n",
       "    </tr>\n",
       "  </tbody>\n",
       "</table>\n",
       "</div>"
      ],
      "text/plain": [
       "                            datetime  duration_seconds  \\\n",
       "count                          80331      8.033100e+04   \n",
       "mean   2004-05-17 07:11:29.266161024      9.016999e+03   \n",
       "min              1906-11-11 00:00:00      1.000000e-03   \n",
       "25%              2001-08-02 22:20:00      3.000000e+01   \n",
       "50%              2006-11-22 05:10:00      1.800000e+02   \n",
       "75%              2011-06-21 01:00:00      6.000000e+02   \n",
       "max              2014-05-08 18:45:00      9.783600e+07   \n",
       "std                              NaN      6.202206e+05   \n",
       "\n",
       "                         date_posted      latitude    longitude   \n",
       "count                          80331  80331.000000  80331.000000  \n",
       "mean   2007-07-28 01:44:20.776038912     38.124477    -86.772650  \n",
       "min              1998-03-07 00:00:00    -82.862752   -176.658056  \n",
       "25%              2003-11-26 00:00:00     34.134722   -112.073333  \n",
       "50%              2007-11-28 00:00:00     39.411111    -87.903611  \n",
       "75%              2011-10-10 00:00:00     42.788333    -78.755000  \n",
       "max              2014-05-08 00:00:00     72.700000    178.441900  \n",
       "std                              NaN     10.469636     39.697396  "
      ]
     },
     "execution_count": 22,
     "metadata": {},
     "output_type": "execute_result"
    }
   ],
   "source": [
    "# identify the suitable method for the use case below\n",
    "# data._________(datetime_is_numeric=True)\n",
    "data.describe(datetime_is_numeric=True)"
   ]
  },
  {
   "cell_type": "markdown",
   "id": "b1088704",
   "metadata": {},
   "source": [
    "How many sightings are there in this dataset?"
   ]
  },
  {
   "cell_type": "code",
   "execution_count": 23,
   "id": "faa755a7",
   "metadata": {},
   "outputs": [
    {
     "data": {
      "text/plain": [
       "(80331, 10)"
      ]
     },
     "execution_count": 23,
     "metadata": {},
     "output_type": "execute_result"
    }
   ],
   "source": [
    "data.shape"
   ]
  },
  {
   "cell_type": "markdown",
   "id": "6babb7b1",
   "metadata": {},
   "source": [
    "Which city has the most UFO sightings?"
   ]
  },
  {
   "cell_type": "code",
   "execution_count": 24,
   "id": "84b4e833",
   "metadata": {},
   "outputs": [
    {
     "data": {
      "text/plain": [
       "seattle                                  525\n",
       "phoenix                                  454\n",
       "portland                                 374\n",
       "las vegas                                368\n",
       "los angeles                              353\n",
       "                                        ... \n",
       "playa del cura (grand canaria island)      1\n",
       "livermore/pleasonton (area)                1\n",
       "hamburg (germany)                          1\n",
       "cole camp                                  1\n",
       "hamstead (hollyridge)                      1\n",
       "Name: city, Length: 19899, dtype: int64"
      ]
     },
     "execution_count": 24,
     "metadata": {},
     "output_type": "execute_result"
    }
   ],
   "source": [
    "data.city.value_counts()"
   ]
  },
  {
   "cell_type": "markdown",
   "id": "99ce7b62",
   "metadata": {},
   "source": [
    "Does Malaysia have UFO sightings?"
   ]
  },
  {
   "cell_type": "code",
   "execution_count": 25,
   "id": "74c41621",
   "metadata": {},
   "outputs": [
    {
     "data": {
      "text/plain": [
       "array(['us', nan, 'gb', 'ca', 'au', 'de'], dtype=object)"
      ]
     },
     "execution_count": 25,
     "metadata": {},
     "output_type": "execute_result"
    }
   ],
   "source": [
    "# add your code in to list down all unique countries in the dataset\n",
    "data.country.unique()"
   ]
  },
  {
   "cell_type": "markdown",
   "id": "34416756",
   "metadata": {},
   "source": [
    "What is the average time in minutes of all the sightings?"
   ]
  },
  {
   "cell_type": "code",
   "execution_count": 26,
   "id": "39cc9755",
   "metadata": {},
   "outputs": [
    {
     "data": {
      "text/plain": [
       "150.2833170384617"
      ]
     },
     "execution_count": 26,
     "metadata": {},
     "output_type": "execute_result"
    }
   ],
   "source": [
    "data.duration_seconds.mean() / 60"
   ]
  },
  {
   "cell_type": "markdown",
   "id": "9533bcc6",
   "metadata": {},
   "source": [
    "Which state in the United States has the most number of UFO sightings?"
   ]
  },
  {
   "cell_type": "code",
   "execution_count": 27,
   "id": "5c22f4ed",
   "metadata": {},
   "outputs": [
    {
     "data": {
      "text/plain": [
       "ca    8912\n",
       "wa    3966\n",
       "fl    3835\n",
       "tx    3447\n",
       "ny    2980\n",
       "Name: state, dtype: int64"
      ]
     },
     "execution_count": 27,
     "metadata": {},
     "output_type": "execute_result"
    }
   ],
   "source": [
    "data[data.country == 'us'].state.value_counts().head()"
   ]
  },
  {
   "cell_type": "markdown",
   "id": "622b3166",
   "metadata": {},
   "source": [
    "What is the min duration of the sightings in states in the United States?"
   ]
  },
  {
   "cell_type": "code",
   "execution_count": 28,
   "id": "d7aedbc4",
   "metadata": {},
   "outputs": [
    {
     "data": {
      "text/plain": [
       "state\n",
       "ak    1.00\n",
       "al    0.50\n",
       "ar    0.20\n",
       "az    0.10\n",
       "ca    0.10\n",
       "co    0.10\n",
       "ct    1.00\n",
       "dc    4.00\n",
       "de    1.00\n",
       "fl    1.00\n",
       "ga    0.10\n",
       "hi    1.00\n",
       "ia    0.50\n",
       "id    0.30\n",
       "il    0.01\n",
       "in    0.50\n",
       "ks    1.00\n",
       "ky    1.00\n",
       "la    1.00\n",
       "ma    0.50\n",
       "md    0.30\n",
       "me    0.40\n",
       "mi    0.50\n",
       "mn    0.33\n",
       "mo    0.50\n",
       "ms    1.00\n",
       "mt    1.00\n",
       "nc    0.05\n",
       "nd    1.00\n",
       "ne    1.00\n",
       "nh    0.50\n",
       "nj    0.50\n",
       "nm    0.50\n",
       "nv    0.45\n",
       "ny    0.05\n",
       "oh    0.50\n",
       "ok    0.50\n",
       "or    0.01\n",
       "pa    0.50\n",
       "pr    2.00\n",
       "ri    0.50\n",
       "sc    0.50\n",
       "sd    1.50\n",
       "tn    1.00\n",
       "tx    0.50\n",
       "ut    0.50\n",
       "va    1.00\n",
       "vt    1.00\n",
       "wa    0.01\n",
       "wi    1.00\n",
       "wv    1.00\n",
       "wy    1.00\n",
       "Name: duration_seconds, dtype: float64"
      ]
     },
     "execution_count": 28,
     "metadata": {},
     "output_type": "execute_result"
    }
   ],
   "source": [
    "data[data.country == 'us'].groupby('state').duration_seconds.min()"
   ]
  },
  {
   "cell_type": "markdown",
   "id": "0a20e578",
   "metadata": {},
   "source": [
    "What are all the UFO shapes?"
   ]
  },
  {
   "cell_type": "code",
   "execution_count": 29,
   "id": "5d6673d4",
   "metadata": {},
   "outputs": [
    {
     "data": {
      "text/plain": [
       "array(['cylinder', 'light', 'circle', 'sphere', 'disk', 'fireball',\n",
       "       'unknown', 'oval', 'other', 'cigar', 'rectangle', 'chevron',\n",
       "       'triangle', 'formation', nan, 'delta', 'changing', 'egg',\n",
       "       'diamond', 'flash', 'teardrop', 'cone', 'cross', 'pyramid',\n",
       "       'round', 'crescent', 'flare', 'hexagon', 'dome', 'changed'],\n",
       "      dtype=object)"
      ]
     },
     "execution_count": 29,
     "metadata": {},
     "output_type": "execute_result"
    }
   ],
   "source": [
    "data['shape'].unique()"
   ]
  },
  {
   "cell_type": "markdown",
   "id": "c4275f9b",
   "metadata": {},
   "source": [
    "What is the probability of seeing a circle UFO?"
   ]
  },
  {
   "cell_type": "code",
   "execution_count": 30,
   "id": "685169e8",
   "metadata": {},
   "outputs": [
    {
     "data": {
      "text/plain": [
       "0.09704205410783301"
      ]
     },
     "execution_count": 30,
     "metadata": {},
     "output_type": "execute_result"
    }
   ],
   "source": [
    "# get the number of circle UFO observed in the dataset and assign it to sum_of_circles\n",
    "sum_of_circles = (data['shape'] == 'circle').sum()\n",
    "# exclude na and get the total observations and assign to sum_of_not_na\n",
    "sum_of_not_na = data['shape'].notnull().sum()\n",
    "# calculate the probability with the sum_of_circles divided by sum_of_not_na\n",
    "sum_of_circles / sum_of_not_na"
   ]
  },
  {
   "cell_type": "markdown",
   "id": "aeb35154",
   "metadata": {},
   "source": [
    "Do we have sightings with same comments?"
   ]
  },
  {
   "cell_type": "code",
   "execution_count": 32,
   "id": "b6028295",
   "metadata": {},
   "outputs": [
    {
     "data": {
      "text/plain": [
       "True"
      ]
     },
     "execution_count": 32,
     "metadata": {},
     "output_type": "execute_result"
    }
   ],
   "source": [
    "# add your code here\n",
    "(data.comments.value_counts() > 1).any()\n",
    "# you should get only a boolean value indicating whether there are sightings with the same comments"
   ]
  },
  {
   "cell_type": "markdown",
   "id": "7185ae2f",
   "metadata": {},
   "source": [
    "Which year has the most UFO sightings?"
   ]
  },
  {
   "cell_type": "code",
   "execution_count": 33,
   "id": "2834701a",
   "metadata": {},
   "outputs": [],
   "source": [
    "# uncomment and complete the code below\n",
    "data['year'] = data.datetime.dt.year\n",
    "data['month'] = data.datetime.dt.month\n",
    "data['day'] = data.datetime.dt.day"
   ]
  },
  {
   "cell_type": "code",
   "execution_count": 34,
   "id": "ed4de6da",
   "metadata": {},
   "outputs": [
    {
     "data": {
      "text/plain": [
       "2012    7357\n",
       "2013    7037\n",
       "2011    5107\n",
       "2008    4820\n",
       "2009    4541\n",
       "        ... \n",
       "1920       1\n",
       "1916       1\n",
       "1906       1\n",
       "1925       1\n",
       "1934       1\n",
       "Name: year, Length: 87, dtype: int64"
      ]
     },
     "execution_count": 34,
     "metadata": {},
     "output_type": "execute_result"
    }
   ],
   "source": [
    "data.year.value_counts()"
   ]
  },
  {
   "cell_type": "markdown",
   "id": "063a0715",
   "metadata": {},
   "source": [
    "At what time in a day should we look out the window to search for UFO?"
   ]
  },
  {
   "cell_type": "code",
   "execution_count": 35,
   "id": "9d44e4df",
   "metadata": {},
   "outputs": [],
   "source": [
    "# complete the code below\n",
    "data['hour'] = data.datetime.dt.hour"
   ]
  },
  {
   "cell_type": "code",
   "execution_count": 36,
   "id": "a1d8326c",
   "metadata": {},
   "outputs": [
    {
     "data": {
      "text/plain": [
       "0      4802\n",
       "1      3210\n",
       "2      2357\n",
       "3      2004\n",
       "4      1529\n",
       "5      1590\n",
       "6      1224\n",
       "7       905\n",
       "8       803\n",
       "9       958\n",
       "10     1166\n",
       "11     1144\n",
       "12     1368\n",
       "13     1303\n",
       "14     1322\n",
       "15     1433\n",
       "16     1620\n",
       "17     2592\n",
       "18     4002\n",
       "19     6147\n",
       "20     8617\n",
       "21    11445\n",
       "22    10837\n",
       "23     7953\n",
       "Name: hour, dtype: int64"
      ]
     },
     "execution_count": 36,
     "metadata": {},
     "output_type": "execute_result"
    }
   ],
   "source": [
    "# add your code below to answer the question\n",
    "data.hour.value_counts().sort_index()"
   ]
  },
  {
   "cell_type": "markdown",
   "id": "97c3994d",
   "metadata": {},
   "source": [
    "What shape of UFO can we see more often in the morning (0600-1159)?"
   ]
  },
  {
   "cell_type": "code",
   "execution_count": 37,
   "id": "3c7c662c",
   "metadata": {},
   "outputs": [
    {
     "data": {
      "text/html": [
       "<div>\n",
       "<style scoped>\n",
       "    .dataframe tbody tr th:only-of-type {\n",
       "        vertical-align: middle;\n",
       "    }\n",
       "\n",
       "    .dataframe tbody tr th {\n",
       "        vertical-align: top;\n",
       "    }\n",
       "\n",
       "    .dataframe thead th {\n",
       "        text-align: right;\n",
       "    }\n",
       "</style>\n",
       "<table border=\"1\" class=\"dataframe\">\n",
       "  <thead>\n",
       "    <tr style=\"text-align: right;\">\n",
       "      <th></th>\n",
       "      <th>datetime</th>\n",
       "      <th>city</th>\n",
       "      <th>state</th>\n",
       "      <th>country</th>\n",
       "      <th>shape</th>\n",
       "      <th>duration_seconds</th>\n",
       "      <th>comments</th>\n",
       "      <th>date_posted</th>\n",
       "      <th>latitude</th>\n",
       "      <th>longitude</th>\n",
       "      <th>year</th>\n",
       "      <th>month</th>\n",
       "      <th>day</th>\n",
       "      <th>hour</th>\n",
       "      <th>time</th>\n",
       "    </tr>\n",
       "  </thead>\n",
       "  <tbody>\n",
       "    <tr>\n",
       "      <th>35</th>\n",
       "      <td>1982-10-10 07:00:00</td>\n",
       "      <td>gisborne (new zealand)</td>\n",
       "      <td>NaN</td>\n",
       "      <td>NaN</td>\n",
       "      <td>disk</td>\n",
       "      <td>120.0</td>\n",
       "      <td>gisborne nz 1982 wainui beach to sponge bay</td>\n",
       "      <td>2002-01-11</td>\n",
       "      <td>-38.662334</td>\n",
       "      <td>178.017649</td>\n",
       "      <td>1982</td>\n",
       "      <td>10</td>\n",
       "      <td>10</td>\n",
       "      <td>7</td>\n",
       "      <td>07:00:00</td>\n",
       "    </tr>\n",
       "    <tr>\n",
       "      <th>84</th>\n",
       "      <td>1999-10-10 06:00:00</td>\n",
       "      <td>dallas</td>\n",
       "      <td>tx</td>\n",
       "      <td>us</td>\n",
       "      <td>other</td>\n",
       "      <td>10.0</td>\n",
       "      <td>group of   twinkling lights at high altitude</td>\n",
       "      <td>2001-11-20</td>\n",
       "      <td>32.783333</td>\n",
       "      <td>-96.800000</td>\n",
       "      <td>1999</td>\n",
       "      <td>10</td>\n",
       "      <td>10</td>\n",
       "      <td>6</td>\n",
       "      <td>06:00:00</td>\n",
       "    </tr>\n",
       "    <tr>\n",
       "      <th>85</th>\n",
       "      <td>1999-10-10 11:00:00</td>\n",
       "      <td>san diego</td>\n",
       "      <td>ca</td>\n",
       "      <td>us</td>\n",
       "      <td>fireball</td>\n",
       "      <td>3600.0</td>\n",
       "      <td>At 10:45 in the morning&amp;#44 my father and I no...</td>\n",
       "      <td>1999-10-19</td>\n",
       "      <td>32.715278</td>\n",
       "      <td>-117.156389</td>\n",
       "      <td>1999</td>\n",
       "      <td>10</td>\n",
       "      <td>10</td>\n",
       "      <td>11</td>\n",
       "      <td>11:00:00</td>\n",
       "    </tr>\n",
       "    <tr>\n",
       "      <th>94</th>\n",
       "      <td>2000-10-10 06:15:00</td>\n",
       "      <td>boynton beach</td>\n",
       "      <td>fl</td>\n",
       "      <td>us</td>\n",
       "      <td>other</td>\n",
       "      <td>10.0</td>\n",
       "      <td>Unusual light formation moving extremely fast ...</td>\n",
       "      <td>2000-12-02</td>\n",
       "      <td>26.525000</td>\n",
       "      <td>-80.066667</td>\n",
       "      <td>2000</td>\n",
       "      <td>10</td>\n",
       "      <td>10</td>\n",
       "      <td>6</td>\n",
       "      <td>06:15:00</td>\n",
       "    </tr>\n",
       "    <tr>\n",
       "      <th>95</th>\n",
       "      <td>2000-10-10 07:30:00</td>\n",
       "      <td>victoria (canada)</td>\n",
       "      <td>bc</td>\n",
       "      <td>ca</td>\n",
       "      <td>cylinder</td>\n",
       "      <td>30.0</td>\n",
       "      <td>Smooth Shiny Cylinder</td>\n",
       "      <td>2000-12-02</td>\n",
       "      <td>46.216667</td>\n",
       "      <td>-63.483333</td>\n",
       "      <td>2000</td>\n",
       "      <td>10</td>\n",
       "      <td>10</td>\n",
       "      <td>7</td>\n",
       "      <td>07:30:00</td>\n",
       "    </tr>\n",
       "  </tbody>\n",
       "</table>\n",
       "</div>"
      ],
      "text/plain": [
       "              datetime                    city state country     shape  \\\n",
       "35 1982-10-10 07:00:00  gisborne (new zealand)   NaN     NaN      disk   \n",
       "84 1999-10-10 06:00:00                  dallas    tx      us     other   \n",
       "85 1999-10-10 11:00:00               san diego    ca      us  fireball   \n",
       "94 2000-10-10 06:15:00           boynton beach    fl      us     other   \n",
       "95 2000-10-10 07:30:00       victoria (canada)    bc      ca  cylinder   \n",
       "\n",
       "    duration_seconds                                           comments  \\\n",
       "35             120.0        gisborne nz 1982 wainui beach to sponge bay   \n",
       "84              10.0       group of   twinkling lights at high altitude   \n",
       "85            3600.0  At 10:45 in the morning&#44 my father and I no...   \n",
       "94              10.0  Unusual light formation moving extremely fast ...   \n",
       "95              30.0                              Smooth Shiny Cylinder   \n",
       "\n",
       "   date_posted   latitude  longitude   year  month  day  hour      time  \n",
       "35  2002-01-11 -38.662334  178.017649  1982     10   10     7  07:00:00  \n",
       "84  2001-11-20  32.783333  -96.800000  1999     10   10     6  06:00:00  \n",
       "85  1999-10-19  32.715278 -117.156389  1999     10   10    11  11:00:00  \n",
       "94  2000-12-02  26.525000  -80.066667  2000     10   10     6  06:15:00  \n",
       "95  2000-12-02  46.216667  -63.483333  2000     10   10     7  07:30:00  "
      ]
     },
     "execution_count": 37,
     "metadata": {},
     "output_type": "execute_result"
    }
   ],
   "source": [
    "from datetime import time;\n",
    "data['time'] = data.datetime.dt.time\n",
    "morning_sightings = data[(data.time >= time(hour=6)) & (data.time < time(hour=12))]\n",
    "morning_sightings.head()"
   ]
  },
  {
   "cell_type": "code",
   "execution_count": 38,
   "id": "ea420e0b",
   "metadata": {},
   "outputs": [
    {
     "data": {
      "text/plain": [
       "light        945\n",
       "circle       604\n",
       "disk         536\n",
       "triangle     503\n",
       "other        495\n",
       "sphere       456\n",
       "unknown      418\n",
       "oval         386\n",
       "fireball     356\n",
       "cigar        283\n",
       "changing     188\n",
       "cylinder     165\n",
       "formation    136\n",
       "rectangle    133\n",
       "diamond      107\n",
       "flash         93\n",
       "teardrop      89\n",
       "egg           80\n",
       "chevron       46\n",
       "cone          27\n",
       "cross         26\n",
       "Name: shape, dtype: int64"
      ]
     },
     "execution_count": 38,
     "metadata": {},
     "output_type": "execute_result"
    }
   ],
   "source": [
    "morning_sightings['shape'].value_counts()"
   ]
  },
  {
   "cell_type": "markdown",
   "id": "f30e59ca",
   "metadata": {},
   "source": [
    "Create a dataset that contains datetime, country, shape and duration_seconds. Save that dataset in csv format with filename simplified_dataset.csv."
   ]
  },
  {
   "cell_type": "code",
   "execution_count": 39,
   "id": "48ad1013",
   "metadata": {},
   "outputs": [
    {
     "data": {
      "text/html": [
       "<div>\n",
       "<style scoped>\n",
       "    .dataframe tbody tr th:only-of-type {\n",
       "        vertical-align: middle;\n",
       "    }\n",
       "\n",
       "    .dataframe tbody tr th {\n",
       "        vertical-align: top;\n",
       "    }\n",
       "\n",
       "    .dataframe thead th {\n",
       "        text-align: right;\n",
       "    }\n",
       "</style>\n",
       "<table border=\"1\" class=\"dataframe\">\n",
       "  <thead>\n",
       "    <tr style=\"text-align: right;\">\n",
       "      <th></th>\n",
       "      <th>datetime</th>\n",
       "      <th>country</th>\n",
       "      <th>shape</th>\n",
       "      <th>duration_seconds</th>\n",
       "    </tr>\n",
       "  </thead>\n",
       "  <tbody>\n",
       "    <tr>\n",
       "      <th>0</th>\n",
       "      <td>1949-10-10 20:30:00</td>\n",
       "      <td>us</td>\n",
       "      <td>cylinder</td>\n",
       "      <td>2700.0</td>\n",
       "    </tr>\n",
       "    <tr>\n",
       "      <th>1</th>\n",
       "      <td>1949-10-10 21:00:00</td>\n",
       "      <td>NaN</td>\n",
       "      <td>light</td>\n",
       "      <td>7200.0</td>\n",
       "    </tr>\n",
       "    <tr>\n",
       "      <th>2</th>\n",
       "      <td>1955-10-10 17:00:00</td>\n",
       "      <td>gb</td>\n",
       "      <td>circle</td>\n",
       "      <td>20.0</td>\n",
       "    </tr>\n",
       "    <tr>\n",
       "      <th>3</th>\n",
       "      <td>1956-10-10 21:00:00</td>\n",
       "      <td>us</td>\n",
       "      <td>circle</td>\n",
       "      <td>20.0</td>\n",
       "    </tr>\n",
       "    <tr>\n",
       "      <th>4</th>\n",
       "      <td>1960-10-10 20:00:00</td>\n",
       "      <td>us</td>\n",
       "      <td>light</td>\n",
       "      <td>900.0</td>\n",
       "    </tr>\n",
       "  </tbody>\n",
       "</table>\n",
       "</div>"
      ],
      "text/plain": [
       "             datetime country     shape  duration_seconds\n",
       "0 1949-10-10 20:30:00      us  cylinder            2700.0\n",
       "1 1949-10-10 21:00:00     NaN     light            7200.0\n",
       "2 1955-10-10 17:00:00      gb    circle              20.0\n",
       "3 1956-10-10 21:00:00      us    circle              20.0\n",
       "4 1960-10-10 20:00:00      us     light             900.0"
      ]
     },
     "execution_count": 39,
     "metadata": {},
     "output_type": "execute_result"
    }
   ],
   "source": [
    "# uncomment and complete the code below\n",
    "# new_dataset = \n",
    "new_dataset = data.loc[:, ['datetime', 'country', 'shape', 'duration_seconds']]\n",
    "new_dataset.head()"
   ]
  },
  {
   "cell_type": "code",
   "execution_count": 40,
   "id": "eb18e07e",
   "metadata": {},
   "outputs": [],
   "source": [
    "new_dataset.to_csv('simplified_dataset.csv', header=True, index=False)"
   ]
  }
 ],
 "metadata": {
  "kernelspec": {
   "display_name": "Python 3 (ipykernel)",
   "language": "python",
   "name": "python3"
  },
  "language_info": {
   "codemirror_mode": {
    "name": "ipython",
    "version": 3
   },
   "file_extension": ".py",
   "mimetype": "text/x-python",
   "name": "python",
   "nbconvert_exporter": "python",
   "pygments_lexer": "ipython3",
   "version": "3.9.7"
  }
 },
 "nbformat": 4,
 "nbformat_minor": 5
}
