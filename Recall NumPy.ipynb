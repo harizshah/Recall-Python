{
 "cells": [
  {
   "cell_type": "markdown",
   "id": "c31563e0",
   "metadata": {},
   "source": [
    "# Recalled by Hariz"
   ]
  },
  {
   "cell_type": "markdown",
   "id": "69c21142",
   "metadata": {},
   "source": [
    "# What is NumPy?"
   ]
  },
  {
   "cell_type": "markdown",
   "id": "0514f218",
   "metadata": {},
   "source": [
    "NumPy stands for Numerical Python, which is the fundamental package for scientific computing in Python. It supports for large, multi-dimensional arrays and matrices, along with a large collection of high-level mathematical functions to operate on these arrays."
   ]
  },
  {
   "cell_type": "markdown",
   "id": "71b49cf8",
   "metadata": {},
   "source": [
    "# Why use NumPy?"
   ]
  },
  {
   "cell_type": "markdown",
   "id": "5ab24e39",
   "metadata": {},
   "source": [
    "- Faster and more powerful than lists\n",
    "- Supports basic matrix operations\n",
    "- Supports statistics operands\n",
    "- Supports broadcasting\n",
    "- Supports vectorization"
   ]
  },
  {
   "cell_type": "markdown",
   "id": "c490e3da",
   "metadata": {},
   "source": [
    "## Get started with Numpy"
   ]
  },
  {
   "cell_type": "code",
   "execution_count": 1,
   "id": "e4294643",
   "metadata": {},
   "outputs": [],
   "source": [
    "#Let's import the NumPy library and create our first NumPy array.\n",
    "import numpy as np"
   ]
  },
  {
   "cell_type": "code",
   "execution_count": 4,
   "id": "06f66092",
   "metadata": {},
   "outputs": [
    {
     "name": "stdout",
     "output_type": "stream",
     "text": [
      "[1 2 3 4 5]\n",
      "<class 'numpy.ndarray'>\n",
      "(5,)\n",
      "5\n",
      "1\n"
     ]
    }
   ],
   "source": [
    "# create 1-D arrays\n",
    "my_arr = np.array([1, 2, 3, 4, 5])\n",
    "print(my_arr)\n",
    "print(type(my_arr))\n",
    "print(my_arr.shape)\n",
    "print(my_arr.size)\n",
    "print(my_arr.ndim)\n",
    "# The ndim is an attribute in the pandas DataFrame which is used to get the integer/number representation of dimensions of the given DataFrame object"
   ]
  },
  {
   "cell_type": "code",
   "execution_count": 7,
   "id": "edfc56c1",
   "metadata": {},
   "outputs": [
    {
     "name": "stdout",
     "output_type": "stream",
     "text": [
      "[[1 2 3]\n",
      " [4 5 6]]\n",
      "<class 'numpy.ndarray'>\n",
      "(2, 3)\n",
      "6\n",
      "2\n"
     ]
    }
   ],
   "source": [
    "# create 2-D arrays\n",
    "my_arr2D = np.array([[1, 2, 3], [4, 5, 6]])\n",
    "print(my_arr2D)\n",
    "print(type(my_arr2D))\n",
    "print(my_arr2D.shape)\n",
    "print(my_arr2D.size)\n",
    "print(my_arr2D.ndim)"
   ]
  },
  {
   "cell_type": "code",
   "execution_count": 8,
   "id": "eed6b6a8",
   "metadata": {},
   "outputs": [
    {
     "name": "stdout",
     "output_type": "stream",
     "text": [
      "[[[1 2 3]\n",
      "  [4 5 6]]\n",
      "\n",
      " [[1 2 3]\n",
      "  [4 5 6]]]\n",
      "<class 'numpy.ndarray'>\n",
      "(2, 2, 3)\n",
      "12\n",
      "3\n"
     ]
    }
   ],
   "source": [
    "# create 3-D arrays\n",
    "my_arr3D = np.array([[[1, 2, 3], [4, 5, 6]], [[1, 2, 3], [4, 5, 6]]])\n",
    "print(my_arr3D)\n",
    "print(type(my_arr3D))\n",
    "print(my_arr3D.shape)\n",
    "print(my_arr3D.size)\n",
    "print(my_arr3D.ndim)"
   ]
  },
  {
   "cell_type": "markdown",
   "id": "b68ed698",
   "metadata": {},
   "source": [
    "## Indexing"
   ]
  },
  {
   "cell_type": "markdown",
   "id": "f45668d8",
   "metadata": {},
   "source": [
    "NumPy arrays indexing works similar like Python's lists"
   ]
  },
  {
   "cell_type": "code",
   "execution_count": 13,
   "id": "97185324",
   "metadata": {},
   "outputs": [
    {
     "data": {
      "text/plain": [
       "array([0, 1, 2, 3, 4, 5, 6, 7, 8, 9])"
      ]
     },
     "execution_count": 13,
     "metadata": {},
     "output_type": "execute_result"
    }
   ],
   "source": [
    "a = np.arange(10)\n",
    "a"
   ]
  },
  {
   "cell_type": "code",
   "execution_count": 10,
   "id": "4df5adc0",
   "metadata": {},
   "outputs": [
    {
     "data": {
      "text/plain": [
       "0"
      ]
     },
     "execution_count": 10,
     "metadata": {},
     "output_type": "execute_result"
    }
   ],
   "source": [
    "a[0]"
   ]
  },
  {
   "cell_type": "code",
   "execution_count": 11,
   "id": "a955a30b",
   "metadata": {},
   "outputs": [
    {
     "data": {
      "text/plain": [
       "9"
      ]
     },
     "execution_count": 11,
     "metadata": {},
     "output_type": "execute_result"
    }
   ],
   "source": [
    "a[-1]"
   ]
  },
  {
   "cell_type": "code",
   "execution_count": 12,
   "id": "2ca7e549",
   "metadata": {},
   "outputs": [
    {
     "data": {
      "text/plain": [
       "array([ 0,  1,  2,  3,  4, 50,  6,  7,  8,  9])"
      ]
     },
     "execution_count": 12,
     "metadata": {},
     "output_type": "execute_result"
    }
   ],
   "source": [
    "a[-5] = 50\n",
    "a"
   ]
  },
  {
   "cell_type": "markdown",
   "id": "427e286d",
   "metadata": {},
   "source": [
    "## Slicing"
   ]
  },
  {
   "cell_type": "markdown",
   "id": "c6f0fdfb",
   "metadata": {},
   "source": [
    "var[lower:upper:step]"
   ]
  },
  {
   "cell_type": "markdown",
   "id": "e8617fa0",
   "metadata": {},
   "source": [
    "- Lower boundary is inclusive\n",
    "- Upper boundary is exclusive\n",
    "- Step specifics the stride between elements"
   ]
  },
  {
   "cell_type": "code",
   "execution_count": 14,
   "id": "a0dd35c5",
   "metadata": {},
   "outputs": [
    {
     "data": {
      "text/plain": [
       "array([0, 1, 2, 3, 4, 5, 6, 7, 8, 9])"
      ]
     },
     "execution_count": 14,
     "metadata": {},
     "output_type": "execute_result"
    }
   ],
   "source": [
    "a = np.arange(10)\n",
    "a"
   ]
  },
  {
   "cell_type": "code",
   "execution_count": 15,
   "id": "8d3fdd95",
   "metadata": {},
   "outputs": [
    {
     "data": {
      "text/plain": [
       "array([1, 2])"
      ]
     },
     "execution_count": 15,
     "metadata": {},
     "output_type": "execute_result"
    }
   ],
   "source": [
    "a[1:3]"
   ]
  },
  {
   "cell_type": "code",
   "execution_count": 16,
   "id": "29e4de32",
   "metadata": {},
   "outputs": [
    {
     "data": {
      "text/plain": [
       "array([1, 2, 3, 4, 5, 6, 7, 8])"
      ]
     },
     "execution_count": 16,
     "metadata": {},
     "output_type": "execute_result"
    }
   ],
   "source": [
    "# negative indices do work\n",
    "a[1:-1]"
   ]
  },
  {
   "cell_type": "code",
   "execution_count": 17,
   "id": "9343f01b",
   "metadata": {},
   "outputs": [
    {
     "data": {
      "text/plain": [
       "array([0, 1, 2])"
      ]
     },
     "execution_count": 17,
     "metadata": {},
     "output_type": "execute_result"
    }
   ],
   "source": [
    "# ommiting boundaries\n",
    "a[:3]"
   ]
  },
  {
   "cell_type": "code",
   "execution_count": 18,
   "id": "1386c1c1",
   "metadata": {},
   "outputs": [
    {
     "data": {
      "text/plain": [
       "array([3, 4, 5, 6, 7, 8, 9])"
      ]
     },
     "execution_count": 18,
     "metadata": {},
     "output_type": "execute_result"
    }
   ],
   "source": [
    "a[3:]"
   ]
  },
  {
   "cell_type": "code",
   "execution_count": 19,
   "id": "e82ed31e",
   "metadata": {},
   "outputs": [
    {
     "data": {
      "text/plain": [
       "array([0, 2, 4, 6, 8])"
      ]
     },
     "execution_count": 19,
     "metadata": {},
     "output_type": "execute_result"
    }
   ],
   "source": [
    "# every other elements (take every two steps)\n",
    "a[::2]"
   ]
  },
  {
   "cell_type": "markdown",
   "id": "6440b780",
   "metadata": {},
   "source": [
    "## Fancy Indexing"
   ]
  },
  {
   "cell_type": "code",
   "execution_count": 21,
   "id": "8463c185",
   "metadata": {},
   "outputs": [
    {
     "data": {
      "text/plain": [
       "array([0, 1, 2, 3, 4, 5, 6, 7, 8, 9])"
      ]
     },
     "execution_count": 21,
     "metadata": {},
     "output_type": "execute_result"
    }
   ],
   "source": [
    "a = np.arange(10)\n",
    "a"
   ]
  },
  {
   "cell_type": "code",
   "execution_count": 22,
   "id": "fb4eb3ca",
   "metadata": {},
   "outputs": [
    {
     "data": {
      "text/plain": [
       "array([False, False, False, False, False, False,  True,  True,  True,\n",
       "        True])"
      ]
     },
     "execution_count": 22,
     "metadata": {},
     "output_type": "execute_result"
    }
   ],
   "source": [
    "mask = a > 5\n",
    "mask"
   ]
  },
  {
   "cell_type": "code",
   "execution_count": 23,
   "id": "be367c3e",
   "metadata": {},
   "outputs": [
    {
     "data": {
      "text/plain": [
       "array([6, 7, 8, 9])"
      ]
     },
     "execution_count": 23,
     "metadata": {},
     "output_type": "execute_result"
    }
   ],
   "source": [
    "a[mask]"
   ]
  },
  {
   "cell_type": "code",
   "execution_count": 24,
   "id": "f1c0aaf7",
   "metadata": {},
   "outputs": [
    {
     "data": {
      "text/plain": [
       "array([0, 2, 4, 6, 8])"
      ]
     },
     "execution_count": 24,
     "metadata": {},
     "output_type": "execute_result"
    }
   ],
   "source": [
    "a[a%2==0]"
   ]
  },
  {
   "cell_type": "markdown",
   "id": "79441ae8",
   "metadata": {},
   "source": [
    "## Element-wise operations"
   ]
  },
  {
   "cell_type": "markdown",
   "id": "f224f70d",
   "metadata": {},
   "source": [
    "- Add\n",
    "- Subtract\n",
    "- Multiply\n",
    "- Divide\n",
    "- Square root\n",
    "- Power\n",
    "- Exponential\n",
    "- Logarithm"
   ]
  },
  {
   "cell_type": "code",
   "execution_count": 25,
   "id": "af0d83fa",
   "metadata": {},
   "outputs": [
    {
     "data": {
      "text/plain": [
       "array([1, 2, 3, 4, 5])"
      ]
     },
     "execution_count": 25,
     "metadata": {},
     "output_type": "execute_result"
    }
   ],
   "source": [
    "a = np.arange(1,6)\n",
    "a"
   ]
  },
  {
   "cell_type": "code",
   "execution_count": 26,
   "id": "03a634bb",
   "metadata": {},
   "outputs": [
    {
     "data": {
      "text/plain": [
       "array([ 6,  7,  8,  9, 10])"
      ]
     },
     "execution_count": 26,
     "metadata": {},
     "output_type": "execute_result"
    }
   ],
   "source": [
    "# Add\n",
    "a + 5"
   ]
  },
  {
   "cell_type": "code",
   "execution_count": 27,
   "id": "f6337ca4",
   "metadata": {},
   "outputs": [
    {
     "data": {
      "text/plain": [
       "array([-4, -3, -2, -1,  0])"
      ]
     },
     "execution_count": 27,
     "metadata": {},
     "output_type": "execute_result"
    }
   ],
   "source": [
    "# Subtract\n",
    "a - 5"
   ]
  },
  {
   "cell_type": "code",
   "execution_count": 28,
   "id": "d5e3f046",
   "metadata": {},
   "outputs": [
    {
     "data": {
      "text/plain": [
       "array([ 5, 10, 15, 20, 25])"
      ]
     },
     "execution_count": 28,
     "metadata": {},
     "output_type": "execute_result"
    }
   ],
   "source": [
    "# Multiply\n",
    "a * 5"
   ]
  },
  {
   "cell_type": "code",
   "execution_count": 29,
   "id": "d2da1098",
   "metadata": {},
   "outputs": [
    {
     "data": {
      "text/plain": [
       "array([0.2, 0.4, 0.6, 0.8, 1. ])"
      ]
     },
     "execution_count": 29,
     "metadata": {},
     "output_type": "execute_result"
    }
   ],
   "source": [
    "# Divide\n",
    "a / 5"
   ]
  },
  {
   "cell_type": "code",
   "execution_count": 30,
   "id": "558ae59a",
   "metadata": {},
   "outputs": [
    {
     "data": {
      "text/plain": [
       "array([0, 0, 0, 0, 1], dtype=int32)"
      ]
     },
     "execution_count": 30,
     "metadata": {},
     "output_type": "execute_result"
    }
   ],
   "source": [
    "# Old-style divide (Python 2)\n",
    "a // 5"
   ]
  },
  {
   "cell_type": "code",
   "execution_count": 31,
   "id": "dc1e566f",
   "metadata": {},
   "outputs": [
    {
     "data": {
      "text/plain": [
       "array([1.        , 1.41421356, 1.73205081, 2.        , 2.23606798])"
      ]
     },
     "execution_count": 31,
     "metadata": {},
     "output_type": "execute_result"
    }
   ],
   "source": [
    "# square root\n",
    "np.sqrt(a)"
   ]
  },
  {
   "cell_type": "code",
   "execution_count": 33,
   "id": "642bdfda",
   "metadata": {},
   "outputs": [
    {
     "data": {
      "text/plain": [
       "array([   1,   32,  243, 1024, 3125], dtype=int32)"
      ]
     },
     "execution_count": 33,
     "metadata": {},
     "output_type": "execute_result"
    }
   ],
   "source": [
    "# power\n",
    "a ** 5"
   ]
  },
  {
   "cell_type": "code",
   "execution_count": 34,
   "id": "784eb4cf",
   "metadata": {},
   "outputs": [
    {
     "data": {
      "text/plain": [
       "array([  2.71828183,   7.3890561 ,  20.08553692,  54.59815003,\n",
       "       148.4131591 ])"
      ]
     },
     "execution_count": 34,
     "metadata": {},
     "output_type": "execute_result"
    }
   ],
   "source": [
    "# exponential\n",
    "np.exp(a)"
   ]
  },
  {
   "cell_type": "code",
   "execution_count": 35,
   "id": "9fde58e6",
   "metadata": {},
   "outputs": [
    {
     "data": {
      "text/plain": [
       "array([0.        , 0.69314718, 1.09861229, 1.38629436, 1.60943791])"
      ]
     },
     "execution_count": 35,
     "metadata": {},
     "output_type": "execute_result"
    }
   ],
   "source": [
    "# logarithm\n",
    "np.log(a)"
   ]
  },
  {
   "cell_type": "code",
   "execution_count": 36,
   "id": "6c4731c0",
   "metadata": {},
   "outputs": [
    {
     "data": {
      "text/plain": [
       "array([0.        , 0.30103   , 0.47712125, 0.60205999, 0.69897   ])"
      ]
     },
     "execution_count": 36,
     "metadata": {},
     "output_type": "execute_result"
    }
   ],
   "source": [
    "# log10\n",
    "np.log10(a)"
   ]
  },
  {
   "cell_type": "markdown",
   "id": "d101b642",
   "metadata": {},
   "source": [
    "## Matrix Operations"
   ]
  },
  {
   "cell_type": "markdown",
   "id": "db6599bc",
   "metadata": {},
   "source": [
    "- Arithmetic\n",
    "- Dot product\n",
    "- Cross product\n",
    "- Inverse\n",
    "- Transpose"
   ]
  },
  {
   "cell_type": "code",
   "execution_count": 37,
   "id": "8b4ea23c",
   "metadata": {},
   "outputs": [
    {
     "name": "stdout",
     "output_type": "stream",
     "text": [
      "[[1 2 3]\n",
      " [1 2 3]]\n",
      "[[4 5 6]\n",
      " [4 5 6]]\n"
     ]
    }
   ],
   "source": [
    "a = np.array([[1,2,3],[1,2,3]])\n",
    "b = np.array([[4,5,6],[4,5,6]])\n",
    "print(a)\n",
    "print(b)"
   ]
  },
  {
   "cell_type": "code",
   "execution_count": 38,
   "id": "ea4ab38b",
   "metadata": {},
   "outputs": [
    {
     "data": {
      "text/plain": [
       "array([[5, 7, 9],\n",
       "       [5, 7, 9]])"
      ]
     },
     "execution_count": 38,
     "metadata": {},
     "output_type": "execute_result"
    }
   ],
   "source": [
    "a+b"
   ]
  },
  {
   "cell_type": "code",
   "execution_count": 39,
   "id": "0f41b168",
   "metadata": {},
   "outputs": [
    {
     "data": {
      "text/plain": [
       "array([[-3, -3, -3],\n",
       "       [-3, -3, -3]])"
      ]
     },
     "execution_count": 39,
     "metadata": {},
     "output_type": "execute_result"
    }
   ],
   "source": [
    "a-b"
   ]
  },
  {
   "cell_type": "code",
   "execution_count": 40,
   "id": "d37021af",
   "metadata": {},
   "outputs": [
    {
     "name": "stdout",
     "output_type": "stream",
     "text": [
      "[[32 32]\n",
      " [32 32]]\n",
      "[[32 32]\n",
      " [32 32]]\n"
     ]
    }
   ],
   "source": [
    "print(a.dot(b.T))\n",
    "print(a @ b.T)"
   ]
  },
  {
   "cell_type": "code",
   "execution_count": 41,
   "id": "7769e56f",
   "metadata": {},
   "outputs": [
    {
     "data": {
      "text/plain": [
       "array([[-3,  6, -3],\n",
       "       [-3,  6, -3]])"
      ]
     },
     "execution_count": 41,
     "metadata": {},
     "output_type": "execute_result"
    }
   ],
   "source": [
    "np.cross(a,b)"
   ]
  },
  {
   "cell_type": "code",
   "execution_count": 42,
   "id": "a3df654a",
   "metadata": {},
   "outputs": [
    {
     "data": {
      "text/plain": [
       "array([[ 1.28571429, -0.28571429, -0.14285714],\n",
       "       [-0.47619048,  0.14285714,  0.23809524],\n",
       "       [ 0.19047619,  0.14285714, -0.0952381 ]])"
      ]
     },
     "execution_count": 42,
     "metadata": {},
     "output_type": "execute_result"
    }
   ],
   "source": [
    "np.linalg.inv(np.array([[1,1,1],[0,2,5],[2,5,-1]]))"
   ]
  },
  {
   "cell_type": "code",
   "execution_count": 43,
   "id": "284092a2",
   "metadata": {},
   "outputs": [
    {
     "data": {
      "text/plain": [
       "array([[0.03571429, 0.03571429],\n",
       "       [0.07142857, 0.07142857],\n",
       "       [0.10714286, 0.10714286]])"
      ]
     },
     "execution_count": 43,
     "metadata": {},
     "output_type": "execute_result"
    }
   ],
   "source": [
    "np.linalg.pinv(a)"
   ]
  },
  {
   "cell_type": "markdown",
   "id": "dfe368d5",
   "metadata": {},
   "source": [
    "##  Broadcasting"
   ]
  },
  {
   "cell_type": "markdown",
   "id": "4de5a117",
   "metadata": {},
   "source": [
    "NumPy arrays of different dimensionality can be combined in the same expression. Arrays with smaller dimension are broadcasted to match larger arrays without copying the data."
   ]
  },
  {
   "cell_type": "code",
   "execution_count": 44,
   "id": "588622cd",
   "metadata": {},
   "outputs": [
    {
     "name": "stdout",
     "output_type": "stream",
     "text": [
      "[[ 0]\n",
      " [10]\n",
      " [20]\n",
      " [30]]\n",
      "[4 5 6]\n"
     ]
    }
   ],
   "source": [
    "a = np.array([0,10,20,30])\n",
    "b = np.array([4,5,6])\n",
    "a = a[:, np.newaxis]\n",
    "print(a)\n",
    "print(b)"
   ]
  },
  {
   "cell_type": "code",
   "execution_count": 45,
   "id": "2ac77718",
   "metadata": {},
   "outputs": [
    {
     "data": {
      "text/plain": [
       "array([[ 4,  5,  6],\n",
       "       [14, 15, 16],\n",
       "       [24, 25, 26],\n",
       "       [34, 35, 36]])"
      ]
     },
     "execution_count": 45,
     "metadata": {},
     "output_type": "execute_result"
    }
   ],
   "source": [
    "a+b"
   ]
  },
  {
   "cell_type": "code",
   "execution_count": 46,
   "id": "d728be46",
   "metadata": {},
   "outputs": [
    {
     "name": "stdout",
     "output_type": "stream",
     "text": [
      "[[ 0  1  2  3  4]\n",
      " [ 5  6  7  8  9]\n",
      " [10 11 12 13 14]\n",
      " [15 16 17 18 19]\n",
      " [20 21 22 23 24]]\n",
      "[[ 0  1  2  3]\n",
      " [ 4  5  6  7]\n",
      " [ 8  9 10 11]\n",
      " [12 13 14 15]\n",
      " [16 17 18 19]\n",
      " [20 21 22 23]]\n"
     ]
    },
    {
     "ename": "ValueError",
     "evalue": "operands could not be broadcast together with shapes (5,5) (6,4) ",
     "output_type": "error",
     "traceback": [
      "\u001b[1;31m---------------------------------------------------------------------------\u001b[0m",
      "\u001b[1;31mValueError\u001b[0m                                Traceback (most recent call last)",
      "\u001b[1;32m~\\AppData\\Local\\Temp/ipykernel_2820/4067626055.py\u001b[0m in \u001b[0;36m<module>\u001b[1;34m\u001b[0m\n\u001b[0;32m      4\u001b[0m \u001b[0mprint\u001b[0m\u001b[1;33m(\u001b[0m\u001b[0merror_a\u001b[0m\u001b[1;33m)\u001b[0m\u001b[1;33m\u001b[0m\u001b[1;33m\u001b[0m\u001b[0m\n\u001b[0;32m      5\u001b[0m \u001b[0mprint\u001b[0m\u001b[1;33m(\u001b[0m\u001b[0merror_b\u001b[0m\u001b[1;33m)\u001b[0m\u001b[1;33m\u001b[0m\u001b[1;33m\u001b[0m\u001b[0m\n\u001b[1;32m----> 6\u001b[1;33m \u001b[0mprint\u001b[0m\u001b[1;33m(\u001b[0m\u001b[0merror_a\u001b[0m\u001b[1;33m+\u001b[0m\u001b[0merror_b\u001b[0m\u001b[1;33m)\u001b[0m\u001b[1;33m\u001b[0m\u001b[1;33m\u001b[0m\u001b[0m\n\u001b[0m",
      "\u001b[1;31mValueError\u001b[0m: operands could not be broadcast together with shapes (5,5) (6,4) "
     ]
    }
   ],
   "source": [
    "# Note: The trailing axes of either arrays must be 1 or both have the same size for broadcasting to occur\n",
    "error_a = np.arange(25).reshape(5,5) # 5 x 5 \n",
    "error_b = np.arange(24).reshape(6,4) # 6 x 4\n",
    "print(error_a)\n",
    "print(error_b)\n",
    "print(error_a+error_b)"
   ]
  },
  {
   "cell_type": "markdown",
   "id": "cf6ab2ac",
   "metadata": {},
   "source": [
    "## Vectorization"
   ]
  },
  {
   "cell_type": "code",
   "execution_count": 47,
   "id": "e549d612",
   "metadata": {},
   "outputs": [],
   "source": [
    "my_list = [i for i in range(100000)]\n",
    "my_array = np.array(my_list)"
   ]
  },
  {
   "cell_type": "code",
   "execution_count": 48,
   "id": "9a70ccec",
   "metadata": {},
   "outputs": [
    {
     "name": "stdout",
     "output_type": "stream",
     "text": [
      "88.9 ms ± 2.92 ms per loop (mean ± std. dev. of 7 runs, 10 loops each)\n"
     ]
    }
   ],
   "source": [
    "%%timeit\n",
    "new_list = [i**50  for i in my_list]"
   ]
  },
  {
   "cell_type": "code",
   "execution_count": 49,
   "id": "db1c3179",
   "metadata": {},
   "outputs": [
    {
     "name": "stdout",
     "output_type": "stream",
     "text": [
      "533 µs ± 12.3 µs per loop (mean ± std. dev. of 7 runs, 1000 loops each)\n"
     ]
    }
   ],
   "source": [
    "%%timeit\n",
    "new_array = my_array**50"
   ]
  }
 ],
 "metadata": {
  "kernelspec": {
   "display_name": "Python 3 (ipykernel)",
   "language": "python",
   "name": "python3"
  },
  "language_info": {
   "codemirror_mode": {
    "name": "ipython",
    "version": 3
   },
   "file_extension": ".py",
   "mimetype": "text/x-python",
   "name": "python",
   "nbconvert_exporter": "python",
   "pygments_lexer": "ipython3",
   "version": "3.9.7"
  }
 },
 "nbformat": 4,
 "nbformat_minor": 5
}
